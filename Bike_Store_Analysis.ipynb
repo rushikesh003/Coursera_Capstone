{
 "cells": [
  {
   "cell_type": "markdown",
   "metadata": {},
   "source": [
    "# Capstone Project  \n",
    "### Introduction/Business Problem  \n",
    "#### Tempe, Arizona is ranked 11th most bike friendly city in the United States. The city has dedicated bike lanes. The bike traffic is most concentrated near the Arizona State University, Tempe campus. What I will try to analyze is whether it would make sense to open a new bike store in Tempe in order to meet the rising demand for bikes in the city."
   ]
  }
 ],
 "metadata": {
  "kernelspec": {
   "display_name": "Python 3",
   "language": "python",
   "name": "python3"
  },
  "language_info": {
   "codemirror_mode": {
    "name": "ipython",
    "version": 3
   },
   "file_extension": ".py",
   "mimetype": "text/x-python",
   "name": "python",
   "nbconvert_exporter": "python",
   "pygments_lexer": "ipython3",
   "version": "3.7.6"
  }
 },
 "nbformat": 4,
 "nbformat_minor": 2
}
