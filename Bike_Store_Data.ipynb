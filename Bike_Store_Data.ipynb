{
 "cells": [
  {
   "cell_type": "markdown",
   "metadata": {},
   "source": [
    "# Capstone Project  \n",
    "### Data Section  \n",
    "#### 1. I will be using the Foursqaure location data to analyze this problem. First I will pull 10000 venues in a 100 KM radius of Tempe, Arizona.  \n",
    "#### 2. The Foursquare API will provide me with the all the information related to the venues.  \n",
    "#### 3. From this data, I will select columns venue id, venue name, venue categories, venue latitude and venue longitude\n",
    "#### 4. Then by applying the bike store filter, I will check how many bike stores are in Tempe\n",
    "#### 5. Plot the stores on the map of Tempe, AZ\n",
    "#### 6. Get the ratings for all the stores\n",
    "#### 7. Make a recommendation based on the analysis"
   ]
  },
  {
   "cell_type": "code",
   "execution_count": null,
   "metadata": {},
   "outputs": [],
   "source": []
  }
 ],
 "metadata": {
  "kernelspec": {
   "display_name": "Python 3",
   "language": "python",
   "name": "python3"
  },
  "language_info": {
   "codemirror_mode": {
    "name": "ipython",
    "version": 3
   },
   "file_extension": ".py",
   "mimetype": "text/x-python",
   "name": "python",
   "nbconvert_exporter": "python",
   "pygments_lexer": "ipython3",
   "version": "3.7.6"
  }
 },
 "nbformat": 4,
 "nbformat_minor": 2
}
